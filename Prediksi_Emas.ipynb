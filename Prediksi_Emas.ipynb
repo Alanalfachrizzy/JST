{
  "metadata": {
    "kernelspec": {
      "language": "python",
      "display_name": "Python 3",
      "name": "python3"
    },
    "language_info": {
      "name": "python",
      "version": "3.7.10",
      "mimetype": "text/x-python",
      "codemirror_mode": {
        "name": "ipython",
        "version": 3
      },
      "pygments_lexer": "ipython3",
      "nbconvert_exporter": "python",
      "file_extension": ".py"
    },
    "colab": {
      "provenance": []
    }
  },
  "nbformat_minor": 0,
  "nbformat": 4,
  "cells": [
    {
      "cell_type": "code",
      "source": [
        "# This Python 3 environment comes with many helpful analytics libraries installed\n",
        "# It is defined by the kaggle/python Docker image: https://github.com/kaggle/docker-python\n",
        "# For example, here's several helpful packages to load\n",
        "\n",
        "import numpy as np # linear algebra\n",
        "import pandas as pd # data processing, CSV file I/O (e.g. pd.read_csv)\n",
        "\n",
        "# Input data files are available in the read-only \"../input/\" directory\n",
        "# For example, running this (by clicking run or pressing Shift+Enter) will list all files under the input directory\n",
        "\n",
        "import os\n",
        "for dirname, _, filenames in os.walk('/kaggle/input'):\n",
        "    for filename in filenames:\n",
        "        print(os.path.join(dirname, filename))\n",
        "\n",
        "# You can write up to 20GB to the current directory (/kaggle/working/) that gets preserved as output when you create a version using \"Save & Run All\" \n",
        "# You can also write temporary files to /kaggle/temp/, but they won't be saved outside of the current session"
      ],
      "metadata": {
        "_uuid": "8f2839f25d086af736a60e9eeb907d3b93b6e0e5",
        "_cell_guid": "b1076dfc-b9ad-4769-8c92-a6c4dae69d19",
        "execution": {
          "iopub.status.busy": "2023-01-18T07:56:31.805204Z",
          "iopub.execute_input": "2023-01-18T07:56:31.806051Z",
          "iopub.status.idle": "2023-01-18T07:56:31.831895Z",
          "shell.execute_reply.started": "2023-01-18T07:56:31.805905Z",
          "shell.execute_reply": "2023-01-18T07:56:31.830709Z"
        },
        "trusted": true,
        "id": "IziaA76B9Fcs"
      },
      "execution_count": null,
      "outputs": []
    },
    {
      "cell_type": "markdown",
      "source": [
        "**Import library**"
      ],
      "metadata": {
        "id": "iHv3AqD19Fcy"
      }
    },
    {
      "cell_type": "code",
      "source": [
        "import matplotlib.pyplot as plt\n",
        "import sklearn.metrics as metrics\n",
        "# import seaborn as sns\n",
        "# import warnings\n",
        "# warnings.simplefilter('ignore')\n",
        "#pandas dan numpy done"
      ],
      "metadata": {
        "execution": {
          "iopub.status.busy": "2023-01-18T07:56:31.833974Z",
          "iopub.execute_input": "2023-01-18T07:56:31.834426Z",
          "iopub.status.idle": "2023-01-18T07:56:32.812015Z",
          "shell.execute_reply.started": "2023-01-18T07:56:31.834377Z",
          "shell.execute_reply": "2023-01-18T07:56:32.811074Z"
        },
        "trusted": true,
        "id": "rzMfyOgE9Fcy"
      },
      "execution_count": null,
      "outputs": []
    },
    {
      "cell_type": "markdown",
      "source": [
        "**Load data**"
      ],
      "metadata": {
        "id": "gANOKnkF9Fcz"
      }
    },
    {
      "cell_type": "code",
      "source": [
        "data_location = '1990-2021.csv'\n",
        "row_data = pd.read_csv(data_location)\n",
        "row_data.shape"
      ],
      "metadata": {
        "execution": {
          "iopub.status.busy": "2023-01-18T07:56:32.814244Z",
          "iopub.execute_input": "2023-01-18T07:56:32.814741Z",
          "iopub.status.idle": "2023-01-18T07:56:32.835812Z",
          "shell.execute_reply.started": "2023-01-18T07:56:32.814691Z",
          "shell.execute_reply": "2023-01-18T07:56:32.834631Z"
        },
        "trusted": true,
        "colab": {
          "base_uri": "https://localhost:8080/"
        },
        "id": "9b-C7-2o9Fcz",
        "outputId": "1c50cc8e-bda7-4f58-a5ca-ac010e808829"
      },
      "execution_count": null,
      "outputs": [
        {
          "output_type": "execute_result",
          "data": {
            "text/plain": [
              "(12, 3)"
            ]
          },
          "metadata": {},
          "execution_count": 3
        }
      ]
    },
    {
      "cell_type": "code",
      "source": [
        "#membaca data 5 teratas\n",
        "row_data.head()"
      ],
      "metadata": {
        "execution": {
          "iopub.status.busy": "2023-01-18T07:56:32.837844Z",
          "iopub.execute_input": "2023-01-18T07:56:32.838498Z",
          "iopub.status.idle": "2023-01-18T07:56:32.861473Z",
          "shell.execute_reply.started": "2023-01-18T07:56:32.838442Z",
          "shell.execute_reply": "2023-01-18T07:56:32.860426Z"
        },
        "trusted": true,
        "colab": {
          "base_uri": "https://localhost:8080/",
          "height": 206
        },
        "id": "1Q8MKPDE9Fc0",
        "outputId": "7d00b2bb-c63b-4b33-8615-e70668c54dc6"
      },
      "execution_count": null,
      "outputs": [
        {
          "output_type": "execute_result",
          "data": {
            "text/plain": [
              "   Date  Indonesia(IDR)  Jumlah Pelanggan\n",
              "0  2010      12663555.0             12093\n",
              "1  2011      13882342.5             12094\n",
              "2  2012      15974156.3             12095\n",
              "3  2013      14658765.0             12096\n",
              "4  2014      14936310.0             12097"
            ],
            "text/html": [
              "\n",
              "  <div id=\"df-a7d7b68d-a5ba-4b54-8bb3-44fa54c94f9a\">\n",
              "    <div class=\"colab-df-container\">\n",
              "      <div>\n",
              "<style scoped>\n",
              "    .dataframe tbody tr th:only-of-type {\n",
              "        vertical-align: middle;\n",
              "    }\n",
              "\n",
              "    .dataframe tbody tr th {\n",
              "        vertical-align: top;\n",
              "    }\n",
              "\n",
              "    .dataframe thead th {\n",
              "        text-align: right;\n",
              "    }\n",
              "</style>\n",
              "<table border=\"1\" class=\"dataframe\">\n",
              "  <thead>\n",
              "    <tr style=\"text-align: right;\">\n",
              "      <th></th>\n",
              "      <th>Date</th>\n",
              "      <th>Indonesia(IDR)</th>\n",
              "      <th>Jumlah Pelanggan</th>\n",
              "    </tr>\n",
              "  </thead>\n",
              "  <tbody>\n",
              "    <tr>\n",
              "      <th>0</th>\n",
              "      <td>2010</td>\n",
              "      <td>12663555.0</td>\n",
              "      <td>12093</td>\n",
              "    </tr>\n",
              "    <tr>\n",
              "      <th>1</th>\n",
              "      <td>2011</td>\n",
              "      <td>13882342.5</td>\n",
              "      <td>12094</td>\n",
              "    </tr>\n",
              "    <tr>\n",
              "      <th>2</th>\n",
              "      <td>2012</td>\n",
              "      <td>15974156.3</td>\n",
              "      <td>12095</td>\n",
              "    </tr>\n",
              "    <tr>\n",
              "      <th>3</th>\n",
              "      <td>2013</td>\n",
              "      <td>14658765.0</td>\n",
              "      <td>12096</td>\n",
              "    </tr>\n",
              "    <tr>\n",
              "      <th>4</th>\n",
              "      <td>2014</td>\n",
              "      <td>14936310.0</td>\n",
              "      <td>12097</td>\n",
              "    </tr>\n",
              "  </tbody>\n",
              "</table>\n",
              "</div>\n",
              "      <button class=\"colab-df-convert\" onclick=\"convertToInteractive('df-a7d7b68d-a5ba-4b54-8bb3-44fa54c94f9a')\"\n",
              "              title=\"Convert this dataframe to an interactive table.\"\n",
              "              style=\"display:none;\">\n",
              "        \n",
              "  <svg xmlns=\"http://www.w3.org/2000/svg\" height=\"24px\"viewBox=\"0 0 24 24\"\n",
              "       width=\"24px\">\n",
              "    <path d=\"M0 0h24v24H0V0z\" fill=\"none\"/>\n",
              "    <path d=\"M18.56 5.44l.94 2.06.94-2.06 2.06-.94-2.06-.94-.94-2.06-.94 2.06-2.06.94zm-11 1L8.5 8.5l.94-2.06 2.06-.94-2.06-.94L8.5 2.5l-.94 2.06-2.06.94zm10 10l.94 2.06.94-2.06 2.06-.94-2.06-.94-.94-2.06-.94 2.06-2.06.94z\"/><path d=\"M17.41 7.96l-1.37-1.37c-.4-.4-.92-.59-1.43-.59-.52 0-1.04.2-1.43.59L10.3 9.45l-7.72 7.72c-.78.78-.78 2.05 0 2.83L4 21.41c.39.39.9.59 1.41.59.51 0 1.02-.2 1.41-.59l7.78-7.78 2.81-2.81c.8-.78.8-2.07 0-2.86zM5.41 20L4 18.59l7.72-7.72 1.47 1.35L5.41 20z\"/>\n",
              "  </svg>\n",
              "      </button>\n",
              "      \n",
              "  <style>\n",
              "    .colab-df-container {\n",
              "      display:flex;\n",
              "      flex-wrap:wrap;\n",
              "      gap: 12px;\n",
              "    }\n",
              "\n",
              "    .colab-df-convert {\n",
              "      background-color: #E8F0FE;\n",
              "      border: none;\n",
              "      border-radius: 50%;\n",
              "      cursor: pointer;\n",
              "      display: none;\n",
              "      fill: #1967D2;\n",
              "      height: 32px;\n",
              "      padding: 0 0 0 0;\n",
              "      width: 32px;\n",
              "    }\n",
              "\n",
              "    .colab-df-convert:hover {\n",
              "      background-color: #E2EBFA;\n",
              "      box-shadow: 0px 1px 2px rgba(60, 64, 67, 0.3), 0px 1px 3px 1px rgba(60, 64, 67, 0.15);\n",
              "      fill: #174EA6;\n",
              "    }\n",
              "\n",
              "    [theme=dark] .colab-df-convert {\n",
              "      background-color: #3B4455;\n",
              "      fill: #D2E3FC;\n",
              "    }\n",
              "\n",
              "    [theme=dark] .colab-df-convert:hover {\n",
              "      background-color: #434B5C;\n",
              "      box-shadow: 0px 1px 3px 1px rgba(0, 0, 0, 0.15);\n",
              "      filter: drop-shadow(0px 1px 2px rgba(0, 0, 0, 0.3));\n",
              "      fill: #FFFFFF;\n",
              "    }\n",
              "  </style>\n",
              "\n",
              "      <script>\n",
              "        const buttonEl =\n",
              "          document.querySelector('#df-a7d7b68d-a5ba-4b54-8bb3-44fa54c94f9a button.colab-df-convert');\n",
              "        buttonEl.style.display =\n",
              "          google.colab.kernel.accessAllowed ? 'block' : 'none';\n",
              "\n",
              "        async function convertToInteractive(key) {\n",
              "          const element = document.querySelector('#df-a7d7b68d-a5ba-4b54-8bb3-44fa54c94f9a');\n",
              "          const dataTable =\n",
              "            await google.colab.kernel.invokeFunction('convertToInteractive',\n",
              "                                                     [key], {});\n",
              "          if (!dataTable) return;\n",
              "\n",
              "          const docLinkHtml = 'Like what you see? Visit the ' +\n",
              "            '<a target=\"_blank\" href=https://colab.research.google.com/notebooks/data_table.ipynb>data table notebook</a>'\n",
              "            + ' to learn more about interactive tables.';\n",
              "          element.innerHTML = '';\n",
              "          dataTable['output_type'] = 'display_data';\n",
              "          await google.colab.output.renderOutput(dataTable, element);\n",
              "          const docLink = document.createElement('div');\n",
              "          docLink.innerHTML = docLinkHtml;\n",
              "          element.appendChild(docLink);\n",
              "        }\n",
              "      </script>\n",
              "    </div>\n",
              "  </div>\n",
              "  "
            ]
          },
          "metadata": {},
          "execution_count": 4
        }
      ]
    },
    {
      "cell_type": "markdown",
      "source": [],
      "metadata": {
        "id": "SNK3T82fvKRr"
      }
    },
    {
      "cell_type": "markdown",
      "source": [
        "**Membersihkan data yang tidak lengkap (Jika ada)**"
      ],
      "metadata": {
        "id": "wIhfI-jI9Fc1"
      }
    },
    {
      "cell_type": "code",
      "source": [
        "df = row_data.dropna(axis=0)\n",
        "df.describe()"
      ],
      "metadata": {
        "execution": {
          "iopub.status.busy": "2023-01-18T07:56:32.863045Z",
          "iopub.execute_input": "2023-01-18T07:56:32.863668Z",
          "iopub.status.idle": "2023-01-18T07:56:32.909119Z",
          "shell.execute_reply.started": "2023-01-18T07:56:32.863621Z",
          "shell.execute_reply": "2023-01-18T07:56:32.907880Z"
        },
        "trusted": true,
        "colab": {
          "base_uri": "https://localhost:8080/",
          "height": 300
        },
        "id": "2QjT8grx9Fc1",
        "outputId": "38f2455b-d257-431d-fe36-ea9eab1496ed"
      },
      "execution_count": null,
      "outputs": [
        {
          "output_type": "execute_result",
          "data": {
            "text/plain": [
              "              Date  Indonesia(IDR)  Jumlah Pelanggan\n",
              "count    12.000000    1.200000e+01         12.000000\n",
              "mean   2015.500000    1.766894e+07      12098.500000\n",
              "std       3.605551    4.667285e+06          3.605551\n",
              "min    2010.000000    1.266356e+07      12093.000000\n",
              "25%    2012.750000    1.464710e+07      12095.750000\n",
              "50%    2015.500000    1.570615e+07      12098.500000\n",
              "75%    2018.250000    1.905114e+07      12101.250000\n",
              "max    2021.000000    2.652078e+07      12104.000000"
            ],
            "text/html": [
              "\n",
              "  <div id=\"df-aca1f777-40d8-42dc-8f79-5433f4431ce8\">\n",
              "    <div class=\"colab-df-container\">\n",
              "      <div>\n",
              "<style scoped>\n",
              "    .dataframe tbody tr th:only-of-type {\n",
              "        vertical-align: middle;\n",
              "    }\n",
              "\n",
              "    .dataframe tbody tr th {\n",
              "        vertical-align: top;\n",
              "    }\n",
              "\n",
              "    .dataframe thead th {\n",
              "        text-align: right;\n",
              "    }\n",
              "</style>\n",
              "<table border=\"1\" class=\"dataframe\">\n",
              "  <thead>\n",
              "    <tr style=\"text-align: right;\">\n",
              "      <th></th>\n",
              "      <th>Date</th>\n",
              "      <th>Indonesia(IDR)</th>\n",
              "      <th>Jumlah Pelanggan</th>\n",
              "    </tr>\n",
              "  </thead>\n",
              "  <tbody>\n",
              "    <tr>\n",
              "      <th>count</th>\n",
              "      <td>12.000000</td>\n",
              "      <td>1.200000e+01</td>\n",
              "      <td>12.000000</td>\n",
              "    </tr>\n",
              "    <tr>\n",
              "      <th>mean</th>\n",
              "      <td>2015.500000</td>\n",
              "      <td>1.766894e+07</td>\n",
              "      <td>12098.500000</td>\n",
              "    </tr>\n",
              "    <tr>\n",
              "      <th>std</th>\n",
              "      <td>3.605551</td>\n",
              "      <td>4.667285e+06</td>\n",
              "      <td>3.605551</td>\n",
              "    </tr>\n",
              "    <tr>\n",
              "      <th>min</th>\n",
              "      <td>2010.000000</td>\n",
              "      <td>1.266356e+07</td>\n",
              "      <td>12093.000000</td>\n",
              "    </tr>\n",
              "    <tr>\n",
              "      <th>25%</th>\n",
              "      <td>2012.750000</td>\n",
              "      <td>1.464710e+07</td>\n",
              "      <td>12095.750000</td>\n",
              "    </tr>\n",
              "    <tr>\n",
              "      <th>50%</th>\n",
              "      <td>2015.500000</td>\n",
              "      <td>1.570615e+07</td>\n",
              "      <td>12098.500000</td>\n",
              "    </tr>\n",
              "    <tr>\n",
              "      <th>75%</th>\n",
              "      <td>2018.250000</td>\n",
              "      <td>1.905114e+07</td>\n",
              "      <td>12101.250000</td>\n",
              "    </tr>\n",
              "    <tr>\n",
              "      <th>max</th>\n",
              "      <td>2021.000000</td>\n",
              "      <td>2.652078e+07</td>\n",
              "      <td>12104.000000</td>\n",
              "    </tr>\n",
              "  </tbody>\n",
              "</table>\n",
              "</div>\n",
              "      <button class=\"colab-df-convert\" onclick=\"convertToInteractive('df-aca1f777-40d8-42dc-8f79-5433f4431ce8')\"\n",
              "              title=\"Convert this dataframe to an interactive table.\"\n",
              "              style=\"display:none;\">\n",
              "        \n",
              "  <svg xmlns=\"http://www.w3.org/2000/svg\" height=\"24px\"viewBox=\"0 0 24 24\"\n",
              "       width=\"24px\">\n",
              "    <path d=\"M0 0h24v24H0V0z\" fill=\"none\"/>\n",
              "    <path d=\"M18.56 5.44l.94 2.06.94-2.06 2.06-.94-2.06-.94-.94-2.06-.94 2.06-2.06.94zm-11 1L8.5 8.5l.94-2.06 2.06-.94-2.06-.94L8.5 2.5l-.94 2.06-2.06.94zm10 10l.94 2.06.94-2.06 2.06-.94-2.06-.94-.94-2.06-.94 2.06-2.06.94z\"/><path d=\"M17.41 7.96l-1.37-1.37c-.4-.4-.92-.59-1.43-.59-.52 0-1.04.2-1.43.59L10.3 9.45l-7.72 7.72c-.78.78-.78 2.05 0 2.83L4 21.41c.39.39.9.59 1.41.59.51 0 1.02-.2 1.41-.59l7.78-7.78 2.81-2.81c.8-.78.8-2.07 0-2.86zM5.41 20L4 18.59l7.72-7.72 1.47 1.35L5.41 20z\"/>\n",
              "  </svg>\n",
              "      </button>\n",
              "      \n",
              "  <style>\n",
              "    .colab-df-container {\n",
              "      display:flex;\n",
              "      flex-wrap:wrap;\n",
              "      gap: 12px;\n",
              "    }\n",
              "\n",
              "    .colab-df-convert {\n",
              "      background-color: #E8F0FE;\n",
              "      border: none;\n",
              "      border-radius: 50%;\n",
              "      cursor: pointer;\n",
              "      display: none;\n",
              "      fill: #1967D2;\n",
              "      height: 32px;\n",
              "      padding: 0 0 0 0;\n",
              "      width: 32px;\n",
              "    }\n",
              "\n",
              "    .colab-df-convert:hover {\n",
              "      background-color: #E2EBFA;\n",
              "      box-shadow: 0px 1px 2px rgba(60, 64, 67, 0.3), 0px 1px 3px 1px rgba(60, 64, 67, 0.15);\n",
              "      fill: #174EA6;\n",
              "    }\n",
              "\n",
              "    [theme=dark] .colab-df-convert {\n",
              "      background-color: #3B4455;\n",
              "      fill: #D2E3FC;\n",
              "    }\n",
              "\n",
              "    [theme=dark] .colab-df-convert:hover {\n",
              "      background-color: #434B5C;\n",
              "      box-shadow: 0px 1px 3px 1px rgba(0, 0, 0, 0.15);\n",
              "      filter: drop-shadow(0px 1px 2px rgba(0, 0, 0, 0.3));\n",
              "      fill: #FFFFFF;\n",
              "    }\n",
              "  </style>\n",
              "\n",
              "      <script>\n",
              "        const buttonEl =\n",
              "          document.querySelector('#df-aca1f777-40d8-42dc-8f79-5433f4431ce8 button.colab-df-convert');\n",
              "        buttonEl.style.display =\n",
              "          google.colab.kernel.accessAllowed ? 'block' : 'none';\n",
              "\n",
              "        async function convertToInteractive(key) {\n",
              "          const element = document.querySelector('#df-aca1f777-40d8-42dc-8f79-5433f4431ce8');\n",
              "          const dataTable =\n",
              "            await google.colab.kernel.invokeFunction('convertToInteractive',\n",
              "                                                     [key], {});\n",
              "          if (!dataTable) return;\n",
              "\n",
              "          const docLinkHtml = 'Like what you see? Visit the ' +\n",
              "            '<a target=\"_blank\" href=https://colab.research.google.com/notebooks/data_table.ipynb>data table notebook</a>'\n",
              "            + ' to learn more about interactive tables.';\n",
              "          element.innerHTML = '';\n",
              "          dataTable['output_type'] = 'display_data';\n",
              "          await google.colab.output.renderOutput(dataTable, element);\n",
              "          const docLink = document.createElement('div');\n",
              "          docLink.innerHTML = docLinkHtml;\n",
              "          element.appendChild(docLink);\n",
              "        }\n",
              "      </script>\n",
              "    </div>\n",
              "  </div>\n",
              "  "
            ]
          },
          "metadata": {},
          "execution_count": 5
        }
      ]
    },
    {
      "cell_type": "code",
      "source": [
        "print(df.dtypes)"
      ],
      "metadata": {
        "execution": {
          "iopub.status.busy": "2023-01-18T07:56:32.910853Z",
          "iopub.execute_input": "2023-01-18T07:56:32.911625Z",
          "iopub.status.idle": "2023-01-18T07:56:32.921516Z",
          "shell.execute_reply.started": "2023-01-18T07:56:32.911575Z",
          "shell.execute_reply": "2023-01-18T07:56:32.919794Z"
        },
        "trusted": true,
        "colab": {
          "base_uri": "https://localhost:8080/"
        },
        "id": "MgHH5WWK9Fc2",
        "outputId": "99c838ff-66d1-41c2-f93e-61aada42ae02"
      },
      "execution_count": null,
      "outputs": [
        {
          "output_type": "stream",
          "name": "stdout",
          "text": [
            "Date                  int64\n",
            "Indonesia(IDR)      float64\n",
            "Jumlah Pelanggan      int64\n",
            "dtype: object\n"
          ]
        }
      ]
    },
    {
      "cell_type": "markdown",
      "source": [
        "**Menentukan variabel independen dan dependen**"
      ],
      "metadata": {
        "id": "1B620wsA9Fc2"
      }
    },
    {
      "cell_type": "code",
      "source": [
        "#Menentukan varibel independen dari data sehingga, menghapus varibel dependen yaitu harga\n",
        "x = df.drop([\"Indonesia(IDR)\"],axis = 1)\n",
        "x.head()\n"
      ],
      "metadata": {
        "execution": {
          "iopub.status.busy": "2023-01-18T07:56:32.923406Z",
          "iopub.execute_input": "2023-01-18T07:56:32.924147Z",
          "iopub.status.idle": "2023-01-18T07:56:32.938816Z",
          "shell.execute_reply.started": "2023-01-18T07:56:32.924100Z",
          "shell.execute_reply": "2023-01-18T07:56:32.937569Z"
        },
        "trusted": true,
        "colab": {
          "base_uri": "https://localhost:8080/",
          "height": 206
        },
        "id": "9R2sF7RG9Fc2",
        "outputId": "d91e8d7b-b3d6-49d8-8347-0b8728d2cacb"
      },
      "execution_count": null,
      "outputs": [
        {
          "output_type": "execute_result",
          "data": {
            "text/plain": [
              "   Date  Jumlah Pelanggan\n",
              "0  2010             12093\n",
              "1  2011             12094\n",
              "2  2012             12095\n",
              "3  2013             12096\n",
              "4  2014             12097"
            ],
            "text/html": [
              "\n",
              "  <div id=\"df-2ab520be-ff58-4c4b-a72c-2d414f2f6bc1\">\n",
              "    <div class=\"colab-df-container\">\n",
              "      <div>\n",
              "<style scoped>\n",
              "    .dataframe tbody tr th:only-of-type {\n",
              "        vertical-align: middle;\n",
              "    }\n",
              "\n",
              "    .dataframe tbody tr th {\n",
              "        vertical-align: top;\n",
              "    }\n",
              "\n",
              "    .dataframe thead th {\n",
              "        text-align: right;\n",
              "    }\n",
              "</style>\n",
              "<table border=\"1\" class=\"dataframe\">\n",
              "  <thead>\n",
              "    <tr style=\"text-align: right;\">\n",
              "      <th></th>\n",
              "      <th>Date</th>\n",
              "      <th>Jumlah Pelanggan</th>\n",
              "    </tr>\n",
              "  </thead>\n",
              "  <tbody>\n",
              "    <tr>\n",
              "      <th>0</th>\n",
              "      <td>2010</td>\n",
              "      <td>12093</td>\n",
              "    </tr>\n",
              "    <tr>\n",
              "      <th>1</th>\n",
              "      <td>2011</td>\n",
              "      <td>12094</td>\n",
              "    </tr>\n",
              "    <tr>\n",
              "      <th>2</th>\n",
              "      <td>2012</td>\n",
              "      <td>12095</td>\n",
              "    </tr>\n",
              "    <tr>\n",
              "      <th>3</th>\n",
              "      <td>2013</td>\n",
              "      <td>12096</td>\n",
              "    </tr>\n",
              "    <tr>\n",
              "      <th>4</th>\n",
              "      <td>2014</td>\n",
              "      <td>12097</td>\n",
              "    </tr>\n",
              "  </tbody>\n",
              "</table>\n",
              "</div>\n",
              "      <button class=\"colab-df-convert\" onclick=\"convertToInteractive('df-2ab520be-ff58-4c4b-a72c-2d414f2f6bc1')\"\n",
              "              title=\"Convert this dataframe to an interactive table.\"\n",
              "              style=\"display:none;\">\n",
              "        \n",
              "  <svg xmlns=\"http://www.w3.org/2000/svg\" height=\"24px\"viewBox=\"0 0 24 24\"\n",
              "       width=\"24px\">\n",
              "    <path d=\"M0 0h24v24H0V0z\" fill=\"none\"/>\n",
              "    <path d=\"M18.56 5.44l.94 2.06.94-2.06 2.06-.94-2.06-.94-.94-2.06-.94 2.06-2.06.94zm-11 1L8.5 8.5l.94-2.06 2.06-.94-2.06-.94L8.5 2.5l-.94 2.06-2.06.94zm10 10l.94 2.06.94-2.06 2.06-.94-2.06-.94-.94-2.06-.94 2.06-2.06.94z\"/><path d=\"M17.41 7.96l-1.37-1.37c-.4-.4-.92-.59-1.43-.59-.52 0-1.04.2-1.43.59L10.3 9.45l-7.72 7.72c-.78.78-.78 2.05 0 2.83L4 21.41c.39.39.9.59 1.41.59.51 0 1.02-.2 1.41-.59l7.78-7.78 2.81-2.81c.8-.78.8-2.07 0-2.86zM5.41 20L4 18.59l7.72-7.72 1.47 1.35L5.41 20z\"/>\n",
              "  </svg>\n",
              "      </button>\n",
              "      \n",
              "  <style>\n",
              "    .colab-df-container {\n",
              "      display:flex;\n",
              "      flex-wrap:wrap;\n",
              "      gap: 12px;\n",
              "    }\n",
              "\n",
              "    .colab-df-convert {\n",
              "      background-color: #E8F0FE;\n",
              "      border: none;\n",
              "      border-radius: 50%;\n",
              "      cursor: pointer;\n",
              "      display: none;\n",
              "      fill: #1967D2;\n",
              "      height: 32px;\n",
              "      padding: 0 0 0 0;\n",
              "      width: 32px;\n",
              "    }\n",
              "\n",
              "    .colab-df-convert:hover {\n",
              "      background-color: #E2EBFA;\n",
              "      box-shadow: 0px 1px 2px rgba(60, 64, 67, 0.3), 0px 1px 3px 1px rgba(60, 64, 67, 0.15);\n",
              "      fill: #174EA6;\n",
              "    }\n",
              "\n",
              "    [theme=dark] .colab-df-convert {\n",
              "      background-color: #3B4455;\n",
              "      fill: #D2E3FC;\n",
              "    }\n",
              "\n",
              "    [theme=dark] .colab-df-convert:hover {\n",
              "      background-color: #434B5C;\n",
              "      box-shadow: 0px 1px 3px 1px rgba(0, 0, 0, 0.15);\n",
              "      filter: drop-shadow(0px 1px 2px rgba(0, 0, 0, 0.3));\n",
              "      fill: #FFFFFF;\n",
              "    }\n",
              "  </style>\n",
              "\n",
              "      <script>\n",
              "        const buttonEl =\n",
              "          document.querySelector('#df-2ab520be-ff58-4c4b-a72c-2d414f2f6bc1 button.colab-df-convert');\n",
              "        buttonEl.style.display =\n",
              "          google.colab.kernel.accessAllowed ? 'block' : 'none';\n",
              "\n",
              "        async function convertToInteractive(key) {\n",
              "          const element = document.querySelector('#df-2ab520be-ff58-4c4b-a72c-2d414f2f6bc1');\n",
              "          const dataTable =\n",
              "            await google.colab.kernel.invokeFunction('convertToInteractive',\n",
              "                                                     [key], {});\n",
              "          if (!dataTable) return;\n",
              "\n",
              "          const docLinkHtml = 'Like what you see? Visit the ' +\n",
              "            '<a target=\"_blank\" href=https://colab.research.google.com/notebooks/data_table.ipynb>data table notebook</a>'\n",
              "            + ' to learn more about interactive tables.';\n",
              "          element.innerHTML = '';\n",
              "          dataTable['output_type'] = 'display_data';\n",
              "          await google.colab.output.renderOutput(dataTable, element);\n",
              "          const docLink = document.createElement('div');\n",
              "          docLink.innerHTML = docLinkHtml;\n",
              "          element.appendChild(docLink);\n",
              "        }\n",
              "      </script>\n",
              "    </div>\n",
              "  </div>\n",
              "  "
            ]
          },
          "metadata": {},
          "execution_count": 7
        }
      ]
    },
    {
      "cell_type": "markdown",
      "source": [],
      "metadata": {
        "_kg_hide-output": true,
        "id": "v4uf1cmH9Fc3"
      }
    },
    {
      "cell_type": "code",
      "source": [
        "#Menampilkan data varibel dependen\n",
        "y = df[\"Indonesia(IDR)\"]\n",
        "y.head()"
      ],
      "metadata": {
        "execution": {
          "iopub.status.busy": "2023-01-18T07:56:32.942117Z",
          "iopub.execute_input": "2023-01-18T07:56:32.942585Z",
          "iopub.status.idle": "2023-01-18T07:56:32.951226Z",
          "shell.execute_reply.started": "2023-01-18T07:56:32.942534Z",
          "shell.execute_reply": "2023-01-18T07:56:32.950159Z"
        },
        "trusted": true,
        "colab": {
          "base_uri": "https://localhost:8080/"
        },
        "id": "5UdnELPE9Fc3",
        "outputId": "a2512d3b-3ee4-43bd-d32f-135e910194ac"
      },
      "execution_count": null,
      "outputs": [
        {
          "output_type": "execute_result",
          "data": {
            "text/plain": [
              "0    12663555.0\n",
              "1    13882342.5\n",
              "2    15974156.3\n",
              "3    14658765.0\n",
              "4    14936310.0\n",
              "Name: Indonesia(IDR), dtype: float64"
            ]
          },
          "metadata": {},
          "execution_count": 8
        }
      ]
    },
    {
      "cell_type": "markdown",
      "source": [
        "**Membagi data untuk training dan validasi**"
      ],
      "metadata": {
        "id": "6KGSm93n9Fc4"
      }
    },
    {
      "cell_type": "code",
      "source": [
        "from sklearn.model_selection import train_test_split\n",
        "train_x, test_x, train_y, test_y = train_test_split(x,y,test_size = 0.2, random_state = 70)"
      ],
      "metadata": {
        "execution": {
          "iopub.status.busy": "2023-01-18T07:56:32.952990Z",
          "iopub.execute_input": "2023-01-18T07:56:32.953603Z",
          "iopub.status.idle": "2023-01-18T07:56:32.978698Z",
          "shell.execute_reply.started": "2023-01-18T07:56:32.953558Z",
          "shell.execute_reply": "2023-01-18T07:56:32.977773Z"
        },
        "trusted": true,
        "id": "pRjboX-t9Fc4"
      },
      "execution_count": null,
      "outputs": []
    },
    {
      "cell_type": "markdown",
      "source": [
        "**Membangun model dengan algoritma K-Nearest Neighbors**"
      ],
      "metadata": {
        "id": "cLSFItPr9Fc4"
      }
    },
    {
      "cell_type": "code",
      "source": [
        "from sklearn.neighbors import KNeighborsRegressor as KNN_Reg\n",
        "from sklearn.metrics import mean_squared_error as mse\n",
        "\n",
        "model  = KNN_Reg(n_neighbors = 1)\n",
        "\n",
        "#training model\n",
        "model.fit(train_x, train_y)\n",
        "acc1 = model.score(test_x, test_y)\n",
        "\n",
        "# test for prediction\n",
        "test_predict = model.predict(test_x)\n",
        "score = mse(test_predict, test_y)\n",
        "print(' MSE: ', score, '\\n', 'Accuracy: ', acc1)  "
      ],
      "metadata": {
        "execution": {
          "iopub.status.busy": "2023-01-18T07:56:32.980126Z",
          "iopub.execute_input": "2023-01-18T07:56:32.980718Z",
          "iopub.status.idle": "2023-01-18T07:56:33.152113Z",
          "shell.execute_reply.started": "2023-01-18T07:56:32.980681Z",
          "shell.execute_reply": "2023-01-18T07:56:33.151074Z"
        },
        "trusted": true,
        "colab": {
          "base_uri": "https://localhost:8080/"
        },
        "id": "00hBgYOc9Fc5",
        "outputId": "a3377e21-a1a0-40aa-dd88-85c0efac9f02"
      },
      "execution_count": null,
      "outputs": [
        {
          "output_type": "stream",
          "name": "stdout",
          "text": [
            " MSE:  2816661731416.6177 \n",
            " Accuracy:  0.8947972740669607\n"
          ]
        }
      ]
    },
    {
      "cell_type": "markdown",
      "source": [
        "**Menggunakan elbow method untuk menentukan nilai K terbaik**"
      ],
      "metadata": {
        "id": "VZ-dh90w9Fc5"
      }
    },
    {
      "cell_type": "code",
      "source": [
        "def Elbow(K):\n",
        "  #inisialisasi list kosong\n",
        "  test_mse =[]\n",
        "\n",
        "  #train model pada setiap nilai K\n",
        "  for i in K:\n",
        "    model = KNN_Reg(n_neighbors=i)\n",
        "    model.fit(train_x, train_y)\n",
        "    tmp = model.predict(test_x)\n",
        "    tmp = mse(tmp, test_y)\n",
        "    test_mse.append(tmp)\n",
        "  \n",
        "  return test_mse"
      ],
      "metadata": {
        "execution": {
          "iopub.status.busy": "2023-01-18T07:56:33.153488Z",
          "iopub.execute_input": "2023-01-18T07:56:33.153898Z",
          "iopub.status.idle": "2023-01-18T07:56:33.161545Z",
          "shell.execute_reply.started": "2023-01-18T07:56:33.153853Z",
          "shell.execute_reply": "2023-01-18T07:56:33.160618Z"
        },
        "trusted": true,
        "id": "UFxU6ySE9Fc5"
      },
      "execution_count": null,
      "outputs": []
    },
    {
      "cell_type": "markdown",
      "source": [
        "**Menampilkan grafik nilai k berdasarkan MSE**"
      ],
      "metadata": {
        "id": "HqLMJPmD9Fc6"
      }
    },
    {
      "cell_type": "code",
      "source": [
        "K = range(1, 10)\n",
        "test = Elbow(K)\n",
        "\n",
        "#plotting\n",
        "plt.plot(K,test)\n",
        "plt.xlabel('K Neighbors')\n",
        "plt.ylabel('Mean Squared Error (MSE)')\n",
        "plt.title('Elbow Curve for Test')"
      ],
      "metadata": {
        "execution": {
          "iopub.status.busy": "2023-01-18T07:56:33.162952Z",
          "iopub.execute_input": "2023-01-18T07:56:33.163539Z",
          "iopub.status.idle": "2023-01-18T07:56:33.444125Z",
          "shell.execute_reply.started": "2023-01-18T07:56:33.163480Z",
          "shell.execute_reply": "2023-01-18T07:56:33.443085Z"
        },
        "trusted": true,
        "colab": {
          "base_uri": "https://localhost:8080/",
          "height": 313
        },
        "id": "UAvQxvxr9Fc6",
        "outputId": "eefa260a-68d9-40af-88c9-0c5424295081"
      },
      "execution_count": null,
      "outputs": [
        {
          "output_type": "execute_result",
          "data": {
            "text/plain": [
              "Text(0.5, 1.0, 'Elbow Curve for Test')"
            ]
          },
          "metadata": {},
          "execution_count": 12
        },
        {
          "output_type": "display_data",
          "data": {
            "text/plain": [
              "<Figure size 432x288 with 1 Axes>"
            ],
            "image/png": "[encoded data removed]"
          },
          "metadata": {
            "needs_background": "light"
          }
        }
      ]
    },
    {
      "cell_type": "markdown",
      "source": [
        "**Melakukan improvisasi dengan menerapkan nilai k yang menghasilkan MSE minimum**"
      ],
      "metadata": {
        "id": "ArJ-TL439Fc6"
      }
    },
    {
      "cell_type": "code",
      "source": [
        "new_model  = KNN_Reg(n_neighbors = 3)\n",
        "\n",
        "# Train model\n",
        "new_model.fit(train_x, train_y)\n",
        "acc2 = new_model.score(test_x, test_y)\n",
        "\n",
        "# Prediction test\n",
        "print(' Accuracy of new model (%):', acc2*100, '\\n',\n",
        "      'Accuracy of old model (%):', acc1*100, '\\n Improvement (%):', (acc2-acc1)*100)"
      ],
      "metadata": {
        "execution": {
          "iopub.status.busy": "2023-01-18T07:56:33.445794Z",
          "iopub.execute_input": "2023-01-18T07:56:33.446215Z",
          "iopub.status.idle": "2023-01-18T07:56:33.461780Z",
          "shell.execute_reply.started": "2023-01-18T07:56:33.446169Z",
          "shell.execute_reply": "2023-01-18T07:56:33.460644Z"
        },
        "trusted": true,
        "colab": {
          "base_uri": "https://localhost:8080/"
        },
        "id": "tbXuZza_9Fc7",
        "outputId": "44a82b7d-4177-4ad5-9afc-8c62dcac6775"
      },
      "execution_count": null,
      "outputs": [
        {
          "output_type": "stream",
          "name": "stdout",
          "text": [
            " Accuracy of new model (%): 58.37909731612317 \n",
            " Accuracy of old model (%): 89.47972740669607 \n",
            " Improvement (%): -31.1006300905729\n"
          ]
        }
      ]
    },
    {
      "cell_type": "code",
      "source": [
        "data_emas = np.array([[12,2]])\n",
        "pred_old = model.predict(data_emas)\n",
        "pred_new = new_model.predict(data_emas)\n",
        "\n",
        "print(' Hasil Prediksi harga emas dengan old model: Rp', pred_old, 'Juta\\n',\n",
        "      'Hasil Prediksi harga emas dengan new model: Rp', pred_new, 'Juta')"
      ],
      "metadata": {
        "execution": {
          "iopub.status.busy": "2023-01-18T07:56:33.463464Z",
          "iopub.execute_input": "2023-01-18T07:56:33.464078Z",
          "iopub.status.idle": "2023-01-18T07:56:33.475126Z",
          "shell.execute_reply.started": "2023-01-18T07:56:33.464032Z",
          "shell.execute_reply": "2023-01-18T07:56:33.473946Z"
        },
        "trusted": true,
        "colab": {
          "base_uri": "https://localhost:8080/"
        },
        "id": "j_Ux_gfb9Fc7",
        "outputId": "14bcf865-1093-40ae-8f7f-3628141a8c10"
      },
      "execution_count": null,
      "outputs": [
        {
          "output_type": "stream",
          "name": "stdout",
          "text": [
            " Hasil Prediksi harga emas dengan old model: Rp [12663555.] Juta\n",
            " Hasil Prediksi harga emas dengan new model: Rp [14432158.76666667] Juta\n"
          ]
        },
        {
          "output_type": "stream",
          "name": "stderr",
          "text": [
            "/usr/local/lib/python3.8/dist-packages/sklearn/base.py:450: UserWarning: X does not have valid feature names, but KNeighborsRegressor was fitted with feature names\n",
            "  warnings.warn(\n",
            "/usr/local/lib/python3.8/dist-packages/sklearn/base.py:450: UserWarning: X does not have valid feature names, but KNeighborsRegressor was fitted with feature names\n",
            "  warnings.warn(\n"
          ]
        }
      ]
    }
  ]
}